{
  "nbformat": 4,
  "nbformat_minor": 0,
  "metadata": {
    "colab": {
      "name": "Python_manip_fichiers_texte.ipynb",
      "provenance": [],
      "collapsed_sections": []
    },
    "kernelspec": {
      "name": "python3",
      "display_name": "Python 3"
    },
    "language_info": {
      "name": "python"
    }
  },
  "cells": [
    {
      "cell_type": "markdown",
      "metadata": {
        "id": "Xttzt_AuFxMi"
      },
      "source": [
        "# Enregistrer le texte créé dans un fichier du disque dur"
      ]
    },
    {
      "cell_type": "code",
      "metadata": {
        "id": "exels_qNFP76"
      },
      "source": [
        "fichier = open('bonjour.txt','w') # créer et ouvrir un fichier intitulé 'bonjour'\n",
        "                                  # 'open' et 'close' sont des méthodes sur fichier (file methods) qui agissent sur l'objet 'fichier'\n",
        "                                  # paramètre 'w' spécifie que l'on va écrire ('write') du contenu dans ce fichier\n",
        "fichier.write('Bonjour !')        # écrire la chaine 'Bonjour' dans le fichier\n",
        "fichier.close()                   # fermer le fichier"
      ],
      "execution_count": 8,
      "outputs": []
    }
  ]
}