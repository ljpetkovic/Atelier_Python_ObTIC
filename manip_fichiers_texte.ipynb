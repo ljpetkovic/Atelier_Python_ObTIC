{
 "cells": [
  {
   "cell_type": "markdown",
   "metadata": {},
   "source": [
    "# <font color='MediumVioletRed'>1.&nbsp;&nbsp; Opérations basiques avec des fichiers/dossiers</font>"
   ]
  },
  {
   "cell_type": "markdown",
   "metadata": {},
   "source": [
    "* Pré-requis : modules `os`, `shutil`, `glob`\n",
    "* La bibliothèque standard de Python contient des modules natifs écrits en langage C\n",
    "* _Natifs_ : il suffit de les importer dans l'interpreteur Python"
   ]
  },
  {
   "cell_type": "code",
   "execution_count": 1,
   "metadata": {},
   "outputs": [],
   "source": [
    "import os # fonctions d'interaction avec le système d'exploitation\n",
    "          # module fournit par Python dont le but d'interagir avec le système d'exploitation\n",
    "          # module = fichier contenant des définitions et des instructions Python\n",
    "          # librairie = collection des modules\n",
    "            \n",
    "import shutil # pour la gestion des fichiers et dossiers\n",
    "import glob # recherche de chemins de style Unix selon certains motifs/patrons"
   ]
  },
  {
   "cell_type": "markdown",
   "metadata": {},
   "source": [
    "## Voir le répertoire (dossier) de travail courant"
   ]
  },
  {
   "cell_type": "code",
   "execution_count": 2,
   "metadata": {
    "scrolled": true
   },
   "outputs": [
    {
     "data": {
      "text/plain": [
       "'/home/jovyan'"
      ]
     },
     "execution_count": 2,
     "metadata": {},
     "output_type": "execute_result"
    }
   ],
   "source": [
    "os.getcwd() # 'Python_manip_fichiers_texte'"
   ]
  },
  {
   "cell_type": "markdown",
   "metadata": {},
   "source": [
    "### Si besoin, changer le répertoire de travail courant"
   ]
  },
  {
   "cell_type": "code",
   "execution_count": 3,
   "metadata": {},
   "outputs": [
    {
     "ename": "FileNotFoundError",
     "evalue": "[Errno 2] No such file or directory: '/Users/ljudmilapetkovic/Desktop/Python_manip_fichiers_texte'",
     "output_type": "error",
     "traceback": [
      "\u001b[0;31m---------------------------------------------------------------------------\u001b[0m",
      "\u001b[0;31mFileNotFoundError\u001b[0m                         Traceback (most recent call last)",
      "\u001b[0;32m/tmp/ipykernel_68/3086229214.py\u001b[0m in \u001b[0;36m<module>\u001b[0;34m\u001b[0m\n\u001b[0;32m----> 1\u001b[0;31m \u001b[0mos\u001b[0m\u001b[0;34m.\u001b[0m\u001b[0mchdir\u001b[0m\u001b[0;34m(\u001b[0m\u001b[0;34m'/Users/ljudmilapetkovic/Desktop/Python_manip_fichiers_texte'\u001b[0m\u001b[0;34m)\u001b[0m \u001b[0;31m# chdir = change directory\u001b[0m\u001b[0;34m\u001b[0m\u001b[0;34m\u001b[0m\u001b[0m\n\u001b[0m",
      "\u001b[0;31mFileNotFoundError\u001b[0m: [Errno 2] No such file or directory: '/Users/ljudmilapetkovic/Desktop/Python_manip_fichiers_texte'"
     ]
    }
   ],
   "source": [
    "os.chdir('/Users/ljudmilapetkovic/Desktop/Python_manip_fichiers_texte') # chdir = change directory"
   ]
  },
  {
   "cell_type": "markdown",
   "metadata": {},
   "source": [
    "## Créer un fichier dans ce répertoire"
   ]
  },
  {
   "cell_type": "code",
   "execution_count": 4,
   "metadata": {},
   "outputs": [],
   "source": [
    "fichier = open('bonjour.txt','w') # créer et ouvrir un fichier intitulé 'bonjour'\n",
    "                                  # 'open' et 'close' sont des méthodes sur fichier (file methods) qui agissent sur l'objet/la variable 'fichier'\n",
    "                                  # le paramètre 'w' spécifie que nous allons écrire ('write') du contenu dans ce fichier\n",
    "fichier.write('Bonjour !')        # écrire la chaine 'Bonjour' dans le fichier avec la méthode 'write'\n",
    "fichier.close()                   # fermer le fichierfichier = open('bonjour.txt','w') # créer et ouvrir un fichier intitulé 'bonjour'"
   ]
  },
  {
   "cell_type": "markdown",
   "metadata": {},
   "source": [
    "## Lire depuis un fichier texte"
   ]
  },
  {
   "cell_type": "code",
   "execution_count": 6,
   "metadata": {},
   "outputs": [
    {
     "name": "stdout",
     "output_type": "stream",
     "text": [
      "Bonjour !\n"
     ]
    }
   ],
   "source": [
    "fichier = open('bonjour.txt','r') # paramètre 'r' : fichier ouvert en mode lecture (read)\n",
    "texte = fichier.read()          # méthode 'read' des objets de type fichier\n",
    "print(texte)                    # afficher le contenu du fichier 'bonjour.txt'\n",
    "fichier.close()    "
   ]
  },
  {
   "cell_type": "markdown",
   "metadata": {},
   "source": [
    "## Renommer un fichier"
   ]
  },
  {
   "cell_type": "code",
   "execution_count": 7,
   "metadata": {},
   "outputs": [],
   "source": [
    "os.rename('bonjour.txt', 'bonsoir.txt') "
   ]
  },
  {
   "cell_type": "markdown",
   "metadata": {},
   "source": [
    "## Créer plusieurs fichiers en même temps, chacun avec le texte différent"
   ]
  },
  {
   "cell_type": "code",
   "execution_count": 8,
   "metadata": {},
   "outputs": [
    {
     "name": "stdout",
     "output_type": "stream",
     "text": [
      "Quelque chose\n",
      "Encore quelque chose\n",
      "Encore quelque chose en plus\n"
     ]
    }
   ],
   "source": [
    "fichiers = ['machin.txt', 'truc.txt', 'bidule.txt']                                  # liste avec les noms des fichiers\n",
    "textes = ['Quelque chose', 'Encore quelque chose', 'Encore quelque chose en plus']   # liste avec les textes\n",
    "\n",
    "with open(fichiers[0], \"w\") as f: # nous écrivons le premier texte ('Quelque chose') dans le premier fichier ('machin.txt')\n",
    "    f.write(textes[0])\n",
    "    \n",
    "f = open(\"machin.txt\", \"r\")\n",
    "print(f.read())\n",
    "        \n",
    "with open(fichiers[1], \"w\") as f: # nous écrivons le deuxième texte ('Encore quelque chose') dans le deuxième fichier ('truc.txt')\n",
    "    f.write(textes[1])\n",
    "    \n",
    "f = open(\"truc.txt\", \"r\")\n",
    "print(f.read())\n",
    "            \n",
    "with open(fichiers[2], \"w\") as f: # nous écrivons le troisième texte ('Encore quelque chose en plus') dans le troisième fichier ('bidule.txt')\n",
    "    f.write(textes[2])\n",
    "    \n",
    "f = open(\"bidule.txt\", \"r\")\n",
    "print(f.read())"
   ]
  },
  {
   "cell_type": "markdown",
   "metadata": {},
   "source": [
    "## Créer plusieurs fichiers en même temps, avec le même texte"
   ]
  },
  {
   "cell_type": "code",
   "execution_count": 9,
   "metadata": {},
   "outputs": [
    {
     "name": "stdout",
     "output_type": "stream",
     "text": [
      "Même texte\n",
      "Même texte\n",
      "Même texte\n"
     ]
    }
   ],
   "source": [
    "fichiers = ['machin.txt', 'truc.txt', 'bidule.txt']\n",
    "\n",
    "for fichier in fichiers:\n",
    "    with open(fichier, 'w') as f:\n",
    "        f.write(\"Même texte\")\n",
    "        \n",
    "    with open(fichier, 'r') as f:       \n",
    "        print(f.read())"
   ]
  },
  {
   "cell_type": "markdown",
   "metadata": {},
   "source": [
    "## Ajouter du contenu à un fichier texte existant"
   ]
  },
  {
   "cell_type": "code",
   "execution_count": 10,
   "metadata": {
    "scrolled": true
   },
   "outputs": [
    {
     "name": "stdout",
     "output_type": "stream",
     "text": [
      "Bonjour !\n",
      "Vous allez bien ?\n"
     ]
    }
   ],
   "source": [
    "fichier = open('bonsoir.txt','a')         # ouvrir un fichier pré-existant pour y ajouter du texte avec le paramètre 'a' (append = ajouter)\n",
    "                                          # si nous avions ouvert ce fichier en mode écriture avec le paramètre 'w'\n",
    "                                          # et si nous avions utilisé la méthode 'write',\n",
    "                                          # le contenu précedent aurait été écrasé\n",
    "fichier.write('\\n' + 'Vous allez bien ?') # le '\\n' signifie une nouvelle ligne (saut de ligne)\n",
    "\n",
    "\n",
    "fichier = open('bonsoir.txt', 'r')        # en relançant ce script, plusieurs lignes contenant le message 'Vous allez bien ? apparaîtront.\n",
    "texte_modifié = fichier.read()\n",
    "print(texte_modifié)\n",
    "fichier.close()"
   ]
  },
  {
   "cell_type": "markdown",
   "metadata": {},
   "source": [
    "## Créer un sous-dossier dans ce répertoire"
   ]
  },
  {
   "cell_type": "code",
   "execution_count": 11,
   "metadata": {
    "scrolled": true
   },
   "outputs": [],
   "source": [
    "os.mkdir('nouveau_dossier')"
   ]
  },
  {
   "cell_type": "markdown",
   "metadata": {},
   "source": [
    "## Renommer un dossier"
   ]
  },
  {
   "cell_type": "code",
   "execution_count": 12,
   "metadata": {},
   "outputs": [],
   "source": [
    "import os\n",
    "\n",
    "dossier = 'nouveau_dossier'\n",
    "os.rename(dossier, 'joli_dossier')"
   ]
  },
  {
   "cell_type": "markdown",
   "metadata": {},
   "source": [
    "## Supprimer un dossier"
   ]
  },
  {
   "cell_type": "code",
   "execution_count": 13,
   "metadata": {},
   "outputs": [],
   "source": [
    "shutil.rmtree('joli_dossier') # supprimer une arborescence de répertoires entière"
   ]
  },
  {
   "cell_type": "markdown",
   "metadata": {},
   "source": [
    "## Obtenir la liste de tous les fichiers/dossiers dans le dossier spécifié"
   ]
  },
  {
   "cell_type": "code",
   "execution_count": 14,
   "metadata": {
    "scrolled": true
   },
   "outputs": [
    {
     "data": {
      "text/plain": [
       "[]"
      ]
     },
     "execution_count": 14,
     "metadata": {},
     "output_type": "execute_result"
    }
   ],
   "source": [
    "dossier = 'nouveau_dossier'\n",
    "os.mkdir(dossier) # recréer le nouveau dossier \n",
    "os.listdir(dossier) # le dossier est vide pour le moment"
   ]
  },
  {
   "cell_type": "markdown",
   "metadata": {},
   "source": [
    "## Déplacer un fichier dans un dossier"
   ]
  },
  {
   "cell_type": "code",
   "execution_count": 16,
   "metadata": {
    "scrolled": true
   },
   "outputs": [
    {
     "name": "stdout",
     "output_type": "stream",
     "text": [
      "Avant le déplacement: ['.bashrc', '.profile', '.bash_logout', 'manip_fichiers_texte.ipynb', '.jupyter', 'machin.txt', 'truc.txt', '.ipython', 'bonsoir.txt', 'nouveau_dossier', '.local', '.jupyter-server-log.txt', '.cache', 'bidule.txt', '.ipynb_checkpoints', 'lire_fichier.py', 'ajouter_contenu.py', '.git', 'README.md', 'creer_ouvrir_ecrire_fermer_fichier.py', '.gitignore'] \n",
      "\n",
      "\n",
      "Après le déplacement:\n",
      "['.bashrc', '.profile', '.bash_logout', 'manip_fichiers_texte.ipynb', '.jupyter', 'machin.txt', 'truc.txt', '.ipython', 'nouveau_dossier', '.local', '.jupyter-server-log.txt', '.cache', 'bidule.txt', '.ipynb_checkpoints', 'lire_fichier.py', 'ajouter_contenu.py', '.git', 'README.md', 'creer_ouvrir_ecrire_fermer_fichier.py', '.gitignore'] \n",
      "\n",
      "\n",
      "Chemin-cible: /home/jovyan/nouveau_dossier/bonsoir.txt\n"
     ]
    }
   ],
   "source": [
    "chemin_actuel = os.getcwd() \n",
    "\n",
    "# Lister les fichiers et répertoires dans le dossier\n",
    "# '/Users/ljudmilapetkovic/Desktop/Python_manip_fichiers_texte'\n",
    "# avant de déplacer le fichier\n",
    "print(\"Avant le déplacement:\", os.listdir(chemin_actuel), '\\n\\n')\n",
    "\n",
    "chemin_source = '/home/jovyan/bonsoir.txt'\n",
    "chemin_destination = '/home/jovyan/nouveau_dossier/'\n",
    "\n",
    "# Déplacer le fichier 'bonsoir.txt' dans le dossier de destination\n",
    "# avec la méthode 'move'\n",
    "dest = shutil.move(chemin_source, chemin_destination) \n",
    "\n",
    "# Lister les fichiers et répertoires dans le dossier\n",
    "# '/Users/ljudmilapetkovic/Desktop/Python_manip_fichiers_texte'\n",
    "# après avoir déplacé le fichier\n",
    "print(\"Après le déplacement:\")\n",
    "print(os.listdir(chemin_actuel), '\\n\\n')\n",
    "\n",
    "# Afficher le chemin du nouveau fichier créé \n",
    "print(\"Chemin-cible:\", dest)"
   ]
  },
  {
   "cell_type": "markdown",
   "metadata": {},
   "source": [
    "## Supprimer un fichier"
   ]
  },
  {
   "cell_type": "code",
   "execution_count": 17,
   "metadata": {},
   "outputs": [],
   "source": [
    "os.remove('truc.txt')"
   ]
  },
  {
   "cell_type": "markdown",
   "metadata": {},
   "source": [
    "## Vérifier les chemins"
   ]
  },
  {
   "cell_type": "code",
   "execution_count": 18,
   "metadata": {},
   "outputs": [
    {
     "name": "stdout",
     "output_type": "stream",
     "text": [
      "/home/jovyan\n",
      "/home/jovyan/bonsoir.txt\n",
      "/home/jovyan/nouveau_dossier/\n",
      "/home/jovyan\n"
     ]
    }
   ],
   "source": [
    "print(chemin_actuel)\n",
    "print(chemin_source)\n",
    "print(chemin_destination)\n",
    "print(os.getcwd())"
   ]
  },
  {
   "cell_type": "markdown",
   "metadata": {},
   "source": [
    "## Déplacer tous les fichiers dans un dossier"
   ]
  },
  {
   "cell_type": "code",
   "execution_count": 19,
   "metadata": {},
   "outputs": [
    {
     "name": "stdout",
     "output_type": "stream",
     "text": [
      "['machin.txt', 'bonsoir.txt', 'bidule.txt']\n"
     ]
    }
   ],
   "source": [
    "for fichier in glob.glob(\"*.txt\"):\n",
    "    dest = shutil.move(fichier, chemin_destination) \n",
    "\n",
    "print(os.listdir(chemin_destination))"
   ]
  },
  {
   "cell_type": "markdown",
   "metadata": {},
   "source": [
    "## Changer le répertoire de travail actuel en utilisant le chemin relatif"
   ]
  },
  {
   "cell_type": "code",
   "execution_count": 20,
   "metadata": {},
   "outputs": [
    {
     "data": {
      "text/plain": [
       "'/home/jovyan/dossier_2'"
      ]
     },
     "execution_count": 20,
     "metadata": {},
     "output_type": "execute_result"
    }
   ],
   "source": [
    "dossier_2 = os.mkdir('dossier_2')         # créer un dossier 'dossier_2' dans le répertoire de travail actuel ('Python_manip_fichiers_texte')\n",
    "chemin_source_2 = os.chdir('./dossier_2') # changer le répertoire de travail actuel ('chdir = change directory')\n",
    "                                          # en navigant vers le dossier créé\n",
    "                                          # depuis le répertoire de travail actuel ('.') ;\n",
    "\n",
    "                                          # nous avons donc spécifié le 'chemin relatif',\n",
    "                                          # équivalent au 'chemin absolu' qui en l'occurrence serait écrit comme\n",
    "                                          # '/Users/ljudmilapetkovic/Desktop/Python_manip_fichiers_texte/dossier_2/'\n",
    "                    \n",
    "os.getcwd()                               # voir le nouveau répertoire de travail actuel"
   ]
  },
  {
   "cell_type": "code",
   "execution_count": 21,
   "metadata": {},
   "outputs": [
    {
     "data": {
      "text/plain": [
       "'/home/jovyan/dossier_2'"
      ]
     },
     "execution_count": 21,
     "metadata": {},
     "output_type": "execute_result"
    }
   ],
   "source": [
    "os.getcwd()"
   ]
  },
  {
   "cell_type": "markdown",
   "metadata": {},
   "source": [
    "# <font color='MediumVioletRed'>2.&nbsp;&nbsp; Opérations sur des chaînes de caractères</font>"
   ]
  },
  {
   "cell_type": "markdown",
   "metadata": {},
   "source": [
    "* Utilisation des <font color='MediumVioletRed'>_regex_</font> (expressions régulières)\n",
    "> Chaîne de caractères, qui décrit, selon une syntaxe précise, un ensemble de chaînes de caractères possibles (_cf._ [Wikipédia](https://fr.wikipedia.org/wiki/Expression_régulière))\n",
    "* Pré-requis : module `re` et la librairie `wget`"
   ]
  },
  {
   "cell_type": "code",
   "execution_count": 22,
   "metadata": {},
   "outputs": [
    {
     "name": "stdout",
     "output_type": "stream",
     "text": [
      "Collecting wget\n",
      "  Downloading wget-3.2.zip (10 kB)\n",
      "  Preparing metadata (setup.py) ... \u001b[?25ldone\n",
      "\u001b[?25hBuilding wheels for collected packages: wget\n",
      "  Building wheel for wget (setup.py) ... \u001b[?25ldone\n",
      "\u001b[?25h  Created wheel for wget: filename=wget-3.2-py3-none-any.whl size=9672 sha256=7fcd88bb02a664ae29fd2039a3befe1f482c871b7f26eb096555372afd0390ba\n",
      "  Stored in directory: /home/jovyan/.cache/pip/wheels/a1/b6/7c/0e63e34eb06634181c63adacca38b79ff8f35c37e3c13e3c02\n",
      "Successfully built wget\n",
      "Installing collected packages: wget\n",
      "Successfully installed wget-3.2\n"
     ]
    }
   ],
   "source": [
    "!pip install wget # librairie pour télécharger les fichiers à partir d'URL 'https'"
   ]
  },
  {
   "cell_type": "markdown",
   "metadata": {},
   "source": [
    "## Télécharger le roman _Les Misérables_ (V. Hugo)\n",
    "\n",
    "_Cf._ la page du [projet Gutenberg](https://www.gutenberg.org/ebooks/135)"
   ]
  },
  {
   "cell_type": "code",
   "execution_count": 30,
   "metadata": {
    "scrolled": true
   },
   "outputs": [
    {
     "name": "stdout",
     "output_type": "stream",
     "text": [
      "Téléchargement fini !\n"
     ]
    }
   ],
   "source": [
    "import re    # module pour les opérations à base d'expressions régulières\n",
    "import wget \n",
    "\n",
    "dest = os.getcwd() # dossier où le fichier téléchargé sera stocké\n",
    "url = 'https://www.gutenberg.org/cache/epub/17489/pg17489.txt'\n",
    "fichier = wget.download(url, dest)\n",
    "print('Téléchargement fini !')"
   ]
  },
  {
   "cell_type": "markdown",
   "metadata": {},
   "source": [
    "### Renommer le fichier"
   ]
  },
  {
   "cell_type": "code",
   "execution_count": 31,
   "metadata": {},
   "outputs": [
    {
     "name": "stdout",
     "output_type": "stream",
     "text": [
      "Fichier bien renommé !\n"
     ]
    }
   ],
   "source": [
    "os.rename(fichier, 'Hugo.txt')\n",
    "print('Fichier bien renommé !')"
   ]
  },
  {
   "cell_type": "markdown",
   "metadata": {},
   "source": [
    "## Rechercher une chaîne de caractères dans un fichier texte"
   ]
  },
  {
   "cell_type": "markdown",
   "metadata": {},
   "source": [
    "#### Chercher toutes les occurrences des dates sous forme `en / depuis [année]`"
   ]
  },
  {
   "cell_type": "code",
   "execution_count": 32,
   "metadata": {},
   "outputs": [
    {
     "name": "stdout",
     "output_type": "stream",
     "text": [
      "Ligne 153: En 1815 ******* Contexte : En 1815, M. Charles-François-Bienvenu Myriel était évêque de Digne.\n",
      "\n",
      "Ligne 155: depuis 1806 ******* Contexte : de Digne depuis 1806.\n",
      "\n",
      "Ligne 188: En 1804 ******* Contexte : En 1804, M. Myriel était curé de Brignolles. Il était déjà vieux, et\n",
      "\n",
      "Ligne 275: en 1712 ******* Contexte : Digne en 1712. Ce palais était un vrai logis seigneurial. Tout y avait\n",
      "\n",
      "Ligne 2091: en 1685 ******* Contexte : plains aussi cette pauvre femme huguenote qui, en 1685, sous Louis le\n",
      "\n",
      "Ligne 2173: en 1793 ******* Contexte : Beaulieu, que j'ai sauvé en 1793. J'ai fait mon devoir selon mes forces,\n",
      "\n",
      "Ligne 2331: En 1813 ******* Contexte : nous la laissons faire. 1812 commence à nous désarmer. En 1813, la lâche\n",
      "\n",
      "Ligne 2334: en 1814 ******* Contexte : d'applaudir; en 1814, devant ces maréchaux trahissant, devant ce sénat\n",
      "\n",
      "Ligne 2337: en 1815 ******* Contexte : de détourner la tête; en 1815, comme les suprêmes désastres étaient dans\n",
      "\n",
      "Ligne 2547: En 1815 ******* Contexte : En 1815, nous croyons l'avoir dit, il atteignit soixante-quinze ans,\n",
      "\n",
      "Ligne 3260: en 1815 ******* Contexte : en 1815 de vieilles murailles flanquées de tours carrées qu'on a\n",
      "\n",
      "Ligne 3378: en 1806 ******* Contexte : d'une robe de soie puce, couleur à la mode en 1806, qu'elle avait\n",
      "\n",
      "Ligne 3801: en 93 ******* Contexte : «--Oui, a repris mon frère, mais en 93 on n'avait plus de parents, on\n",
      "\n",
      "Ligne 4026: en 1795 ******* Contexte : Ceci se passait en 1795. Jean Valjean fut traduit devant les tribunaux\n",
      "\n",
      "Ligne 4135: en 1796 ******* Contexte : entré là en 1796 pour avoir cassé un carreau et pris un pain.\n",
      "\n",
      "Ligne 5437: En 1817 ******* Contexte : ses vieux habits. En 1817, Pellegrini chantait, mademoiselle Bigottini\n",
      "\n",
      "Ligne 5446: En 1817 ******* Contexte : servie comme diacre. En 1817, dans les contre-allées de ce même Champ de\n",
      "\n",
      "Ligne 6074: en 1817 ******* Contexte : d'argent suspendue au ruban blanc moiré qui, en 1817, n'avait pas encore\n",
      "\n",
      "Ligne 7297: en 1818 ******* Contexte : C'était, on se le rappelle, en 1818.\n",
      "\n",
      "Ligne 7395: En 1820 ******* Contexte : beaucoup aux autres et peu à lui. En 1820, on lui connaissait une somme\n",
      "\n",
      "Ligne 7433: en 1819 ******* Contexte : Cependant en 1819 le bruit se répandit un matin dans la ville que, sur\n",
      "\n",
      "Ligne 7477: En 1820 ******* Contexte : En 1820, cinq ans après son arrivée à Montreuil-sur-mer, les services\n",
      "\n",
      "Ligne 7721: en 1815 ******* Contexte : monseigneur l'évêque, était prononcé à Digne en 1815. On venait de dix\n",
      "\n",
      "Ligne 12842: en 1796 ******* Contexte : je persiste. Cet homme est Jean Valjean. Entré à Toulon en 1796 et sorti\n",
      "\n",
      "Ligne 12843: en 1815 ******* Contexte : en 1815. Je suis sorti l'an d'après. Il a l'air d'une brute maintenant,\n",
      "\n"
     ]
    }
   ],
   "source": [
    "import re\n",
    "motif = re.compile(r\"(?i)\\b(en|depuis) \\d.*?\\b\") \n",
    "# compiler une regex si plusieurs utilisations d’une regex tout au long du programme\n",
    "\n",
    "# (?i) : le résultat n'est pas sensitif à la casse ('en' ou 'En' ou alors 'EN')\n",
    "# \\b : frontière du mot (début et fin)\n",
    "# \\d : un chiffre\n",
    "# . : n’importe quel caractère sauf le saut de ligne\n",
    "# quantificateur * : tout ce qui précède un symbole, se répété un certain nombre de fois\n",
    "# quantificateur ? : correspondre le moins possible\n",
    "\n",
    "        \n",
    "for i, ligne in enumerate(open('Hugo.txt')): # méthode enumerate() ajoute un compteur 'i' à un itérable (liste, tuple, etc…) et le renvoie (l’objet enumerate).\n",
    "    for match in re.finditer(motif, ligne): # méthode finditer() trouve toutes les sous-chaînes qui correspondent à la regex et les renvoie sous la forme d’un itérateur\n",
    "        print ('Ligne %s: %s' % (i+1, match.group()), '******* Contexte : '+ ligne) # groupe récupéré par la méthode .group()\n",
    "\n",
    "\n"
   ]
  },
  {
   "cell_type": "markdown",
   "metadata": {},
   "source": [
    "#### Chercher toutes les occurrences des mots liés à l'être humain : _humain(e)_, _humanisme_, _humanité_ etc."
   ]
  },
  {
   "cell_type": "code",
   "execution_count": 36,
   "metadata": {},
   "outputs": [
    {
     "name": "stdout",
     "output_type": "stream",
     "text": [
      "Ligne 722: humaine ******* Contexte : de la société humaine. Il disait:\n",
      "\n",
      "Ligne 857: humaine ******* Contexte : humaine. La mort n'appartient qu'à Dieu. De quel droit les hommes\n",
      "\n",
      "Ligne 1909: humain ******* Contexte : des misères, en se renversant sur le genre humain, est devenu une urne\n",
      "\n",
      "Ligne 1926: humain ******* Contexte : française est le plus puissant pas du genre humain depuis l'avènement du\n",
      "\n",
      "Ligne 1930: humanité. ******* Contexte : a été bonne. La révolution française, c'est le sacre de l'humanité.\n",
      "\n",
      "Ligne 2083: humaine ******* Contexte : humaine, 93, hélas! est une réplique. Vous le trouvez inexorable, mais\n",
      "\n",
      "Ligne 2101: humain ******* Contexte : pour le genre humain. J'abrège. Je m'arrête, j'ai trop beau jeu.\n",
      "\n",
      "Ligne 2108: humain ******* Contexte : sont finies, on reconnaît ceci: que le genre humain a été rudoyé, mais\n",
      "\n",
      "Ligne 2118: humain ******* Contexte : impie. C'est un mauvais conducteur du genre humain que celui qui est\n",
      "\n",
      "Ligne 2168: humain ******* Contexte : la patrie. J'ai toujours soutenu la marche en avant du genre humain vers\n",
      "\n",
      "Ligne 2311: humaine ******* Contexte : sublime foi patriotique, démocratique et humaine, qui, de nos jours,\n",
      "\n",
      "Ligne 2317: humaines ******* Contexte : distinctement, au-dessus du va-et-vient orageux des choses humaines, ces\n",
      "\n",
      "Ligne 2490: humaine ******* Contexte : possible de toutes les beautés de la vertu humaine dans une croyance\n",
      "\n",
      "Ligne 2663: humaine ******* Contexte : La méditation humaine n'a point de limite. À ses risques et périls, elle\n",
      "\n",
      "Ligne 2682: surhumaine ******* Contexte : Qu'il dilatât la prière jusqu'à une aspiration surhumaine, cela est\n",
      "\n",
      "Ligne 2722: humain ******* Contexte : gigantesques archanges de l'esprit humain; formidables abîmes que\n",
      "\n",
      "Ligne 3231: humaine ******* Contexte : sentit loin de toute habitation humaine, il leva les yeux et chercha\n",
      "\n",
      "Ligne 3603: humain ******* Contexte : --Vous êtes humain, monsieur le curé. Vous n'avez pas de mépris. C'est\n",
      "\n",
      "Ligne 4037: humain ******* Contexte : le côté humain.\n",
      "\n",
      "Ligne 4078: humain ******* Contexte : tant de têtes infortunées dans la sombre marche du genre humain. Ils\n",
      "\n",
      "Ligne 4208: humaine ******* Contexte : Il se demanda si la société humaine pouvait avoir le droit de faire\n",
      "\n",
      "Ligne 4230: humaine ******* Contexte : Valjean se sentait indigné. Et puis, la société humaine ne lui avait\n",
      "\n",
      "Ligne 4265: humaine ******* Contexte : La nature humaine se transforme-t-elle ainsi de fond en comble et tout à\n",
      "\n",
      "Ligne 4271: humaine ******* Contexte : une voûte trop basse? N'y a-t-il pas dans toute âme humaine, n'y\n",
      "\n",
      "Ligne 4326: humaine ******* Contexte : étrange travail fait par la loi sur l'âme humaine. Jean Valjean eût\n",
      "\n",
      "Ligne 4391: humaine ******* Contexte : société humaine, si formidable pour qui est dehors, si effroyable pour\n",
      "\n",
      "Ligne 4432: humaine ******* Contexte : d'arrivée de toutes ses pensées était la haine de la loi humaine; cette\n",
      "\n",
      "Ligne 4435: humain ******* Contexte : société, puis la haine du genre humain, puis la haine de la création, et\n",
      "\n",
      "Ligne 4496: humaines ******* Contexte : des détresses humaines, mais que peuvent-ils pour lui? Cela vole, chante\n",
      "\n",
      "Ligne 4527: humaines ******* Contexte : Ô marche implacable des sociétés humaines! Pertes d'hommes et d'âmes\n",
      "\n",
      "Ligne 4979: humaine ******* Contexte : expression qu'aucune langue humaine ne pourrait rendre.\n",
      "\n",
      "Ligne 5369: humaine ******* Contexte : reconnut qu'elle avait la forme humaine, et que ce flambeau était\n",
      "\n",
      "Ligne 5606: humanité, ******* Contexte : appelle à tort petits--il n'y a ni petits faits dans l'humanité, ni\n",
      "\n",
      "Ligne 5718: humaine ******* Contexte : petite Fantine. Personne n'en savait davantage. Cette créature humaine\n",
      "\n",
      "Ligne 6247: humanité, ******* Contexte : sublime et de plus charmant dans l'humanité, et peut-être hors de\n",
      "\n",
      "Ligne 6248: humanité, ******* Contexte : l'humanité, a fait des jeux de mots. Jésus-Christ a fait un calembour\n",
      "\n",
      "Ligne 6319: humaine ******* Contexte : amourette! On a dit: l'erreur est humaine; moi je dis: l'erreur est\n",
      "\n",
      "Ligne 6461: humains ******* Contexte : C'est beau. Il est encore ici-bas des humains qui savent joyeusement\n",
      "\n",
      "Ligne 6730: surhumain ******* Contexte : cyclopéen et surhumain, et elle semblait détachée de quelque monstre.\n",
      "\n",
      "Ligne 7772: humaine ******* Contexte : humaine correspond à quelqu'une des espèces de la création animale; et\n",
      "\n",
      "Ligne 7802: humaine ******* Contexte : Donnez une face humaine à ce chien fils d'une louve, et ce sera Javert.\n",
      "\n",
      "Ligne 7817: humaine ******* Contexte : Avant d'aller plus loin, entendons-nous sur ce mot face humaine que nous\n",
      "\n",
      "Ligne 7820: humaine ******* Contexte : La face humaine de Javert consistait en un nez camard, avec deux\n",
      "\n",
      "Ligne 7850: humaine ******* Contexte : attribuent à la loi humaine je ne sais quel pouvoir de faire ou, si l'on\n",
      "\n",
      "Ligne 7884: humanité  ******* Contexte : il s'accordait une prise de tabac. Il tenait à l'humanité par là.\n",
      "\n",
      "Ligne 7914: humaine ******* Contexte : infaillible dans une créature humaine, et le propre de l'instinct est\n",
      "\n",
      "Ligne 10177: humaine ******* Contexte : Faire le poème de la conscience humaine, ne fût-ce qu'à propos d'un seul\n",
      "\n",
      "Ligne 10184: humain ******* Contexte : être humain qui réfléchit, et regardez derrière, regardez dans cette\n",
      "\n",
      "Ligne 10824: humain ******* Contexte : l'oeil humain peut voir.\n",
      "\n",
      "Ligne 10867: humain ******* Contexte : comme un être intelligent et devenir monstrueuse comme le coeur humain!\n",
      "\n",
      "Ligne 10903: humanité, ******* Contexte : toutes les saintetés et toutes les souffrances de l'humanité, avait\n",
      "\n",
      "Ligne 11560: humaine ******* Contexte : ces horizons changeants et l'existence humaine. Toutes les choses de la\n",
      "\n",
      "Ligne 12398: humaine ******* Contexte : humaine qu'on appelle la loi et cette grande chose divine qu'on appelle\n",
      "\n",
      "Ligne 13226: humain ******* Contexte : frissonne, et semble à la fois se dérober et s'offrir. Le corps humain a\n",
      "\n",
      "Ligne 13525: humain ******* Contexte : Aucun sentiment humain ne réussit à être effroyable comme la joie.\n",
      "\n",
      "Ligne 13548: surhumaine ******* Contexte : surhumaine d'un archange féroce; l'ombre redoutable de l'action qu'il\n",
      "\n",
      "Ligne 13560: humaine ******* Contexte : humaine, persiste dans l'horreur. Ce sont des vertus qui ont un vice,\n",
      "\n",
      "Ligne 13600: humaine ******* Contexte : fut prononcé; ce n'était plus une parole humaine, c'était un\n",
      "\n",
      "Ligne 13902: humaine ******* Contexte : nous tirent du fond des entrailles la nature humaine et la forcent de\n",
      "\n"
     ]
    }
   ],
   "source": [
    "import re\n",
    "motif = re.compile(r\"((?i)huma((in.*?\\b)|.*nis.*?\\b|.*nit[a-zA-ZÀ-ÿ\\b].+?))|[a-zA-ZÀ-ÿ\\b]+((?i)huma((in.*?\\b)|.*nis.*?\\b|.*nit[a-zA-ZÀ-ÿ\\b].+?))\") \n",
    "# compiler une regex si plusieurs utilisations d’une regex tout au long du programme\n",
    "\n",
    "# (?i) : le résultat n'est pas sensitif à la casse ('humain' ou 'Humain' ou alors 'HUMAIN')\n",
    "# la chaîne recherchée contient la sous-chaîne 'huma'\n",
    "# . : n’importe quel caractère sauf le saut de ligne\n",
    "# quantificateur * : tout ce qui précède un symbole, se répété un certain nombre de fois\n",
    "# quantificateur ? : correspondre le moins possible\n",
    "# | : équivalent à l'opérateur boolean OR\n",
    "# 1er groupe de capture : ((in.*?\\b)|.*nis.*?\\b|.*nit[a-zA-ZÀ-ÿ\\b].+?) \n",
    "# 2ème groupe de capture (imbriqué) : (in.*?\\b)\n",
    "# plusieurs alternatives : \n",
    "    ## 1. -in.e.s : humaines\n",
    "    ## 2. -isme(s) : humanisme\n",
    "    ## 3. -nité.s. : humanité\n",
    "\n",
    "\n",
    "#  Les adjectifs composés :\n",
    "    ## inhumain (n'existe pas, mais cela aurait été repéré par cette regex)\n",
    "    ## surhumain a été repéré\n",
    "\n",
    "        \n",
    "        \n",
    "for i, ligne in enumerate(open('Hugo.txt', 'r')): # méthode enumerate() ajoute un compteur 'i' à un itérable (liste, tuple, etc…) et le renvoie (l’objet enumerate).\n",
    "    for match in re.finditer(motif, ligne): # méthode finditer() trouve toutes les sous-chaînes qui correspondent à la regex et les renvoie sous la forme d’un itérateur\n",
    "        print ('Ligne %s: %s' % (i+1, match.group()), '******* Contexte : '+ ligne) # groupe récupéré par la méthode .group()\n",
    "\n"
   ]
  },
  {
   "cell_type": "markdown",
   "metadata": {},
   "source": [
    "## Modifier une chaîne de caractères"
   ]
  },
  {
   "cell_type": "markdown",
   "metadata": {},
   "source": [
    "#### Avant d'effectuer les changements du contenu textuel du fichier, créer une **copie back-up** du fichier concerné !"
   ]
  },
  {
   "cell_type": "code",
   "execution_count": 40,
   "metadata": {},
   "outputs": [
    {
     "data": {
      "text/plain": [
       "'./Hugo_copy.txt'"
      ]
     },
     "execution_count": 40,
     "metadata": {},
     "output_type": "execute_result"
    }
   ],
   "source": [
    "import shutil\n",
    "source = './Hugo.txt' # le fichier 'Hugo.txt' dans le même répertoire\n",
    "destination = r'./Hugo_copy.txt'\n",
    "shutil.copyfile(source, destination) # méthode copyfile pour copier les fichiers (pas les dossiers !)"
   ]
  },
  {
   "cell_type": "markdown",
   "metadata": {},
   "source": [
    "#### Chercher les occurrences"
   ]
  },
  {
   "cell_type": "code",
   "execution_count": 41,
   "metadata": {
    "scrolled": true
   },
   "outputs": [
    {
     "name": "stdout",
     "output_type": "stream",
     "text": [
      "Motif recherché\t|    Mot remplaçant\n",
      "_______________________________________\n",
      "En 1815 \t|\t hier\n",
      "depuis 1806 \t|\t hier\n",
      "En 1804 \t|\t hier\n",
      "en 1712 \t|\t hier\n",
      "en 1685 \t|\t hier\n",
      "en 1793 \t|\t hier\n",
      "En 1813 \t|\t hier\n",
      "en 1814 \t|\t hier\n",
      "en 1815 \t|\t hier\n",
      "En 1815 \t|\t hier\n",
      "en 1815 \t|\t hier\n",
      "en 1806 \t|\t hier\n",
      "en 93 \t|\t hier\n",
      "en 1795 \t|\t hier\n",
      "en 1796 \t|\t hier\n",
      "En 1817 \t|\t hier\n",
      "En 1817 \t|\t hier\n",
      "en 1817 \t|\t hier\n",
      "en 1818 \t|\t hier\n",
      "En 1820 \t|\t hier\n",
      "en 1819 \t|\t hier\n",
      "En 1820 \t|\t hier\n",
      "en 1815 \t|\t hier\n",
      "en 1796 \t|\t hier\n",
      "en 1815 \t|\t hier\n"
     ]
    }
   ],
   "source": [
    "motif = re.compile(r\"(?i)\\b(en|depuis) \\d.*?\\b\")\n",
    "\n",
    "# recherche des mots à l'aide du motif\n",
    "# remplacement des mots repérés par ce motif avec le mot 'hier'\n",
    "print('Motif recherché\\t|    Mot remplaçant')\n",
    "print('_______________________________________')\n",
    "with open('Hugo_copy.txt', 'r+') as f:\n",
    "    for i, ligne in enumerate(f): # méthode enumerate() ajoute un compteur 'i' à un itérable (liste, tuple, etc…) et le renvoie (l’objet enumerate).\n",
    "        for match in re.finditer(motif, ligne): # méthode finditer() trouve toutes les sous-chaînes qui correspondent à la regex et les renvoie sous la forme d’un itérateur\n",
    "        \n",
    "            print (match.group(), '\\t|\\t', 'hier') # groupe récupéré par la méthode .group() "
   ]
  },
  {
   "cell_type": "markdown",
   "metadata": {},
   "source": [
    "#### Procéder à la modification"
   ]
  },
  {
   "cell_type": "code",
   "execution_count": 42,
   "metadata": {},
   "outputs": [],
   "source": [
    "motif = re.compile(r\"(?i)\\ben \\d.*?\\b\")\n",
    "\n",
    "with open('Hugo_copy.txt', 'r+') as f:\n",
    "    texte = f.read()\n",
    "    texte = re.sub(motif, r\"hier\", texte) # méthode 'sub' (substitution) \n",
    "                                                        # pour remplacer la chaîne 'en [date]' en 'hier'\n",
    "    f.seek(0) # le paramètre 0 définit le point de référence au début du fichier\n",
    "    f.write(texte)\n",
    "    f.truncate() # tronquer la taille du fichier\n",
    "    f.close()"
   ]
  },
  {
   "cell_type": "markdown",
   "metadata": {},
   "source": [
    "## Supprimer une chaîne de caractères"
   ]
  },
  {
   "cell_type": "code",
   "execution_count": 242,
   "metadata": {},
   "outputs": [
    {
     "name": "stdout",
     "output_type": "stream",
     "text": [
      "Motif recherché\t|    Mot remplaçant\n",
      "_______________________________________\n",
      "http://gutenberg.org/license). \t|\t hier\n",
      "http://pglaf.org/fundraising. \t|\t hier\n"
     ]
    }
   ],
   "source": [
    "motif = re.compile(r\"^(https:|http:|www\\.)\\S*\")\n",
    "\n",
    "# recherche des mots à l'aide du motif\n",
    "# remplacement des mots repérés par ce motif avec le mot 'hier'\n",
    "print('Motif recherché\\t|    Mot remplaçant')\n",
    "print('_______________________________________')\n",
    "with open('Hugo_copy.txt', 'r+') as f:\n",
    "    for i, ligne in enumerate(f): # méthode enumerate() ajoute un compteur 'i' à un itérable (liste, tuple, etc…) et le renvoie (l’objet enumerate).\n",
    "        for match in re.finditer(motif, ligne): # méthode finditer() trouve toutes les sous-chaînes qui correspondent à la regex et les renvoie sous la forme d’un itérateur\n",
    "        \n",
    "            print (match.group(), '\\t|\\t', 'hier') # groupe récupéré par la méthode .group() "
   ]
  },
  {
   "cell_type": "markdown",
   "metadata": {},
   "source": [
    "### Au cas où...<br>\n",
    "\n"
   ]
  },
  {
   "cell_type": "code",
   "execution_count": 115,
   "metadata": {},
   "outputs": [
    {
     "name": "stdout",
     "output_type": "stream",
     "text": [
      "de la société humaine. Il disait:\n",
      "\n",
      "humaine. La mort n'appartient qu'à Dieu. De quel droit les hommes\n",
      "\n",
      "des misères, en se renversant sur le genre humain, est devenu une urne\n",
      "\n",
      "française est le plus puissant pas du genre humain depuis l'avènement du\n",
      "\n",
      "a été bonne. La révolution française, c'est le sacre de l'humanité.\n",
      "\n",
      "humaine, 93, hélas! est une réplique. Vous le trouvez inexorable, mais\n",
      "\n",
      "pour le genre humain. J'abrège. Je m'arrête, j'ai trop beau jeu.\n",
      "\n",
      "sont finies, on reconnaît ceci: que le genre humain a été rudoyé, mais\n",
      "\n",
      "impie. C'est un mauvais conducteur du genre humain que celui qui est\n",
      "\n",
      "la patrie. J'ai toujours soutenu la marche en avant du genre humain vers\n",
      "\n",
      "sublime foi patriotique, démocratique et humaine, qui, de nos jours,\n",
      "\n",
      "distinctement, au-dessus du va-et-vient orageux des choses humaines, ces\n",
      "\n",
      "possible de toutes les beautés de la vertu humaine dans une croyance\n",
      "\n",
      "La méditation humaine n'a point de limite. À ses risques et périls, elle\n",
      "\n",
      "Qu'il dilatât la prière jusqu'à une aspiration surhumaine, cela est\n",
      "\n",
      "gigantesques archanges de l'esprit humain; formidables abîmes que\n",
      "\n",
      "sentit loin de toute habitation humaine, il leva les yeux et chercha\n",
      "\n",
      "--Vous êtes humain, monsieur le curé. Vous n'avez pas de mépris. C'est\n",
      "\n",
      "le côté humain.\n",
      "\n",
      "tant de têtes infortunées dans la sombre marche du genre humain. Ils\n",
      "\n",
      "Il se demanda si la société humaine pouvait avoir le droit de faire\n",
      "\n",
      "Valjean se sentait indigné. Et puis, la société humaine ne lui avait\n",
      "\n",
      "La nature humaine se transforme-t-elle ainsi de fond en comble et tout à\n",
      "\n",
      "une voûte trop basse? N'y a-t-il pas dans toute âme humaine, n'y\n",
      "\n",
      "étrange travail fait par la loi sur l'âme humaine. Jean Valjean eût\n",
      "\n",
      "société humaine, si formidable pour qui est dehors, si effroyable pour\n",
      "\n",
      "d'arrivée de toutes ses pensées était la haine de la loi humaine; cette\n",
      "\n",
      "société, puis la haine du genre humain, puis la haine de la création, et\n",
      "\n",
      "des détresses humaines, mais que peuvent-ils pour lui? Cela vole, chante\n",
      "\n",
      "Ô marche implacable des sociétés humaines! Pertes d'hommes et d'âmes\n",
      "\n",
      "expression qu'aucune langue humaine ne pourrait rendre.\n",
      "\n",
      "reconnut qu'elle avait la forme humaine, et que ce flambeau était\n",
      "\n",
      "appelle à tort petits--il n'y a ni petits faits dans l'humanité, ni\n",
      "\n",
      "petite Fantine. Personne n'en savait davantage. Cette créature humaine\n",
      "\n",
      "sublime et de plus charmant dans l'humanité, et peut-être hors de\n",
      "\n",
      "l'humanité, a fait des jeux de mots. Jésus-Christ a fait un calembour\n",
      "\n",
      "amourette! On a dit: l'erreur est humaine; moi je dis: l'erreur est\n",
      "\n",
      "C'est beau. Il est encore ici-bas des humains qui savent joyeusement\n",
      "\n",
      "cyclopéen et surhumain, et elle semblait détachée de quelque monstre.\n",
      "\n",
      "humaine correspond à quelqu'une des espèces de la création animale; et\n",
      "\n",
      "Donnez une face humaine à ce chien fils d'une louve, et ce sera Javert.\n",
      "\n",
      "Avant d'aller plus loin, entendons-nous sur ce mot face humaine que nous\n",
      "\n",
      "La face humaine de Javert consistait en un nez camard, avec deux\n",
      "\n",
      "attribuent à la loi humaine je ne sais quel pouvoir de faire ou, si l'on\n",
      "\n",
      "il s'accordait une prise de tabac. Il tenait à l'humanité par là.\n",
      "\n",
      "infaillible dans une créature humaine, et le propre de l'instinct est\n",
      "\n",
      "Faire le poème de la conscience humaine, ne fût-ce qu'à propos d'un seul\n",
      "\n",
      "être humain qui réfléchit, et regardez derrière, regardez dans cette\n",
      "\n",
      "l'oeil humain peut voir.\n",
      "\n",
      "comme un être intelligent et devenir monstrueuse comme le coeur humain!\n",
      "\n",
      "toutes les saintetés et toutes les souffrances de l'humanité, avait\n",
      "\n",
      "ces horizons changeants et l'existence humaine. Toutes les choses de la\n",
      "\n",
      "humaine qu'on appelle la loi et cette grande chose divine qu'on appelle\n",
      "\n",
      "frissonne, et semble à la fois se dérober et s'offrir. Le corps humain a\n",
      "\n",
      "Aucun sentiment humain ne réussit à être effroyable comme la joie.\n",
      "\n",
      "surhumaine d'un archange féroce; l'ombre redoutable de l'action qu'il\n",
      "\n",
      "humaine, persiste dans l'horreur. Ce sont des vertus qui ont un vice,\n",
      "\n",
      "fut prononcé; ce n'était plus une parole humaine, c'était un\n",
      "\n",
      "nous tirent du fond des entrailles la nature humaine et la forcent de\n",
      "\n"
     ]
    }
   ],
   "source": [
    "pattern = re.compile(r\"huma((in.*?\\b)|.*nis.*?\\b|.*nit[a-zA-ZÀ-ÿ\\b].+?)\")\n",
    "\n",
    "for line in open(\"Hugo.txt\"):\n",
    "    for match in re.finditer(pattern, line):\n",
    "        print(line)"
   ]
  },
  {
   "cell_type": "code",
   "execution_count": 87,
   "metadata": {},
   "outputs": [],
   "source": []
  },
  {
   "cell_type": "code",
   "execution_count": 31,
   "metadata": {},
   "outputs": [
    {
     "name": "stdout",
     "output_type": "stream",
     "text": [
      "/Users/ljudmilapetkovic/Desktop/Python_manip_fichiers_texte\n"
     ]
    }
   ],
   "source": [
    "from pathlib import Path # récupérer le dossier parent\n",
    "p = Path(chemin_source)\n",
    "chemin_source = p.parent\n",
    "print(chemin_source)"
   ]
  },
  {
   "cell_type": "code",
   "execution_count": 184,
   "metadata": {
    "scrolled": true
   },
   "outputs": [],
   "source": [
    "os.chdir('/Users/ljudmilapetkovic/Desktop/Python_manip_fichiers_texte')"
   ]
  },
  {
   "cell_type": "code",
   "execution_count": 75,
   "metadata": {},
   "outputs": [
    {
     "ename": "IndexError",
     "evalue": "list index out of range",
     "output_type": "error",
     "traceback": [
      "\u001b[0;31m---------------------------------------------------------------------------\u001b[0m",
      "\u001b[0;31mIndexError\u001b[0m                                Traceback (most recent call last)",
      "\u001b[0;32m/var/folders/yx/k59vssnd3374p3dkld0ctjmc0000gn/T/ipykernel_6853/3546580847.py\u001b[0m in \u001b[0;36m<module>\u001b[0;34m\u001b[0m\n\u001b[1;32m      7\u001b[0m \u001b[0mgot\u001b[0m \u001b[0;34m=\u001b[0m \u001b[0mgot\u001b[0m\u001b[0;34m[\u001b[0m\u001b[0;36m0\u001b[0m\u001b[0;34m]\u001b[0m\u001b[0;34m.\u001b[0m\u001b[0mstrip\u001b[0m\u001b[0;34m(\u001b[0m\u001b[0;34m)\u001b[0m\u001b[0;34m\u001b[0m\u001b[0;34m\u001b[0m\u001b[0m\n\u001b[1;32m      8\u001b[0m \u001b[0;34m\u001b[0m\u001b[0m\n\u001b[0;32m----> 9\u001b[0;31m \u001b[0mprint\u001b[0m\u001b[0;34m(\u001b[0m\u001b[0mgot\u001b[0m\u001b[0;34m.\u001b[0m\u001b[0msplit\u001b[0m\u001b[0;34m(\u001b[0m\u001b[0;34m\": \"\u001b[0m\u001b[0;34m)\u001b[0m\u001b[0;34m[\u001b[0m\u001b[0;36m1\u001b[0m\u001b[0;34m]\u001b[0m\u001b[0;34m)\u001b[0m\u001b[0;34m\u001b[0m\u001b[0;34m\u001b[0m\u001b[0m\n\u001b[0m",
      "\u001b[0;31mIndexError\u001b[0m: list index out of range"
     ]
    }
   ],
   "source": [
    "f = open(\"Hugo.txt\").read()\n",
    "\n",
    "import re\n",
    "\n",
    "got = re.findall(\"homme.?\", f)\n",
    "\n",
    "got = got[0].strip()\n",
    "\n",
    "print(got.split(\": \")[1])"
   ]
  },
  {
   "cell_type": "code",
   "execution_count": 56,
   "metadata": {},
   "outputs": [
    {
     "data": {
      "text/plain": [
       "'/Users/ljudmilapetkovic/Desktop/Python_manip_fichiers_texte/dossier_2'"
      ]
     },
     "execution_count": 56,
     "metadata": {},
     "output_type": "execute_result"
    }
   ],
   "source": [
    "os.getcwd()"
   ]
  },
  {
   "cell_type": "markdown",
   "metadata": {},
   "source": [
    "## <font color='MediumVioletRed'>Fin de l'atelier</font> ⌚️"
   ]
  },
  {
   "cell_type": "code",
   "execution_count": 43,
   "metadata": {
    "scrolled": true
   },
   "outputs": [
    {
     "name": "stdout",
     "output_type": "stream",
     "text": [
      "\u0007\u0007\u0007\n"
     ]
    }
   ],
   "source": [
    "import beepy as beep\n",
    "beep.beep(6)\n",
    "os.system('say \"Merci pour votre attention!\"');\n",
    "\n",
    "# for ii in range(1,7): \n",
    "    # beep.beep(ii)\n",
    "beep.beep(5)"
   ]
  },
  {
   "cell_type": "code",
   "execution_count": null,
   "metadata": {},
   "outputs": [],
   "source": []
  },
  {
   "cell_type": "code",
   "execution_count": 19,
   "metadata": {},
   "outputs": [
    {
     "ename": "ModuleNotFoundError",
     "evalue": "No module named 'winsound'",
     "output_type": "error",
     "traceback": [
      "\u001b[0;31m---------------------------------------------------------------------------\u001b[0m",
      "\u001b[0;31mModuleNotFoundError\u001b[0m                       Traceback (most recent call last)",
      "\u001b[0;32m/var/folders/yx/k59vssnd3374p3dkld0ctjmc0000gn/T/ipykernel_2668/2376883613.py\u001b[0m in \u001b[0;36m<module>\u001b[0;34m\u001b[0m\n\u001b[0;32m----> 1\u001b[0;31m \u001b[0;32mimport\u001b[0m \u001b[0mwinsound\u001b[0m\u001b[0;34m\u001b[0m\u001b[0;34m\u001b[0m\u001b[0m\n\u001b[0m\u001b[1;32m      2\u001b[0m \u001b[0mFreq\u001b[0m \u001b[0;34m=\u001b[0m \u001b[0;36m2500\u001b[0m \u001b[0;31m# Set Frequency To 2500 Hertz\u001b[0m\u001b[0;34m\u001b[0m\u001b[0;34m\u001b[0m\u001b[0m\n\u001b[1;32m      3\u001b[0m \u001b[0mDur\u001b[0m \u001b[0;34m=\u001b[0m \u001b[0;36m1000\u001b[0m \u001b[0;31m# Set Duration To 1000 ms == 1 second\u001b[0m\u001b[0;34m\u001b[0m\u001b[0;34m\u001b[0m\u001b[0m\n\u001b[1;32m      4\u001b[0m \u001b[0mwinsound\u001b[0m\u001b[0;34m.\u001b[0m\u001b[0mBeep\u001b[0m\u001b[0;34m(\u001b[0m\u001b[0mFreq\u001b[0m\u001b[0;34m,\u001b[0m\u001b[0mDur\u001b[0m\u001b[0;34m)\u001b[0m\u001b[0;34m\u001b[0m\u001b[0;34m\u001b[0m\u001b[0m\n\u001b[1;32m      5\u001b[0m \u001b[0mwinsound\u001b[0m\u001b[0;34m.\u001b[0m\u001b[0mBeep\u001b[0m\u001b[0;34m(\u001b[0m\u001b[0mFreq\u001b[0m\u001b[0;34m,\u001b[0m\u001b[0mDur\u001b[0m\u001b[0;34m)\u001b[0m\u001b[0;34m\u001b[0m\u001b[0;34m\u001b[0m\u001b[0m\n",
      "\u001b[0;31mModuleNotFoundError\u001b[0m: No module named 'winsound'"
     ]
    }
   ],
   "source": [
    "import winsound\n",
    "Freq = 2500 # Set Frequency To 2500 Hertz\n",
    "Dur = 1000 # Set Duration To 1000 ms == 1 second\n",
    "winsound.Beep(Freq,Dur)\n",
    "winsound.Beep(Freq,Dur)\n"
   ]
  },
  {
   "cell_type": "code",
   "execution_count": 39,
   "metadata": {},
   "outputs": [],
   "source": [
    "import beepy as beep\n",
    "# for ii in range(1,7): \n",
    "    # beep.beep(ii)\n",
    "beep.beep(5)"
   ]
  },
  {
   "cell_type": "code",
   "execution_count": 51,
   "metadata": {},
   "outputs": [
    {
     "name": "stdout",
     "output_type": "stream",
     "text": [
      "\\Coucou !\n"
     ]
    }
   ],
   "source": [
    "print(\"\\\\Coucou !\")"
   ]
  },
  {
   "cell_type": "code",
   "execution_count": 53,
   "metadata": {},
   "outputs": [
    {
     "name": "stdout",
     "output_type": "stream",
     "text": [
      "CherCher\f",
      "Tech\n"
     ]
    }
   ],
   "source": [
    "print(\"CherCher\\fTech\")"
   ]
  },
  {
   "cell_type": "code",
   "execution_count": null,
   "metadata": {},
   "outputs": [],
   "source": []
  }
 ],
 "metadata": {
  "kernelspec": {
   "display_name": "Python 3 (ipykernel)",
   "language": "python",
   "name": "python3"
  },
  "language_info": {
   "codemirror_mode": {
    "name": "ipython",
    "version": 3
   },
   "file_extension": ".py",
   "mimetype": "text/x-python",
   "name": "python",
   "nbconvert_exporter": "python",
   "pygments_lexer": "ipython3",
   "version": "3.7.12"
  }
 },
 "nbformat": 4,
 "nbformat_minor": 4
}
