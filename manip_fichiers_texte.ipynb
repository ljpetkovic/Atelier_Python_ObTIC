{
 "cells": [
  {
   "cell_type": "markdown",
   "metadata": {},
   "source": [
    "# Enregistrer le texte créé dans un fichier du disque dur"
   ]
  },
  {
   "cell_type": "code",
   "execution_count": null,
   "metadata": {},
   "outputs": [],
   "source": [
    "fichier = open('bonjour.txt','w') # créer et ouvrir un fichier intitulé 'bonjour'\n",
    "                                  # 'open' et 'close' sont des méthodes sur fichier (file methods) qui agissent sur l'objet 'fichier'\n",
    "                                  # paramètre 'w' spécifie que l'on va écrire ('write') du contenu dans ce fichier\n",
    "fichier.write('Bonjour !')        # écrire la chaine 'Bonjour' dans le fichier\n",
    "fichier.close()                   # fermer le fichier"
   ]
  }
 ],
 "metadata": {
  "kernelspec": {
   "display_name": "Python 3",
   "language": "python",
   "name": "python3"
  },
  "language_info": {
   "codemirror_mode": {
    "name": "ipython",
    "version": 3
   },
   "file_extension": ".py",
   "mimetype": "text/x-python",
   "name": "python",
   "nbconvert_exporter": "python",
   "pygments_lexer": "ipython3",
   "version": "3.6.13"
  }
 },
 "nbformat": 4,
 "nbformat_minor": 2
}
